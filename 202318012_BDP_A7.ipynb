{
 "cells": [
  {
   "cell_type": "code",
   "execution_count": 15,
   "id": "326aa2eb-353f-4b5e-a6d2-f74c7e32359a",
   "metadata": {},
   "outputs": [],
   "source": [
    "\n",
    "from confluent_kafka import Producer, Consumer, KafkaError\n",
    "import json, socket\n"
   ]
  },
  {
   "cell_type": "markdown",
   "id": "8a931cfc-9d66-438c-8dbe-c00fcc188025",
   "metadata": {},
   "source": [
    "**Reading json file**"
   ]
  },
  {
   "cell_type": "code",
   "execution_count": 16,
   "id": "4e7bee27-e812-4415-8edc-febf48534cfb",
   "metadata": {
    "scrolled": true
   },
   "outputs": [],
   "source": [
    "\n",
    "data = ''\n",
    "with open('data.json', 'r') as file:\n",
    "        data = json.load(file)\n"
   ]
  },
  {
   "cell_type": "markdown",
   "id": "c5260db5-fd59-4d86-90af-778799c68dd8",
   "metadata": {},
   "source": [
    "**Producers: Inventory Orders and Delivery Orders**"
   ]
  },
  {
   "cell_type": "code",
   "execution_count": 17,
   "id": "0bee5e17-cc3e-446a-b8d1-382063dee03c",
   "metadata": {},
   "outputs": [],
   "source": [
    "# setting configurations\n",
    "\n",
    "conf = {'bootstrap.servers': 'localhost:8888', 'client.id': socket.gethostname()}\n",
    "\n",
    "inventory_producer = Producer(conf)\n",
    "delivery_producer = Producer(conf)\n",
    "\n",
    "# setting topics\n",
    "inventory_topic = 'inventory'\n",
    "delivery_topic = 'delivery'"
   ]
  },
  {
   "cell_type": "code",
   "execution_count": 18,
   "id": "5230d95b-eca2-49f2-8135-598b8ff63779",
   "metadata": {},
   "outputs": [],
   "source": [
    "# call back function for message error handling \n",
    "\n",
    "def acked(err, msg):\n",
    "    if err is not None:\n",
    "        print('Message  delivery failed:', err)\n",
    "    else:\n",
    "        print(\"Message produced: %s\" % (str(msg)))\n",
    "        print('Message delivered to topic:', msg.topic(), 'partition:', msg.partition(), 'offset:', msg.offset())\n"
   ]
  },
  {
   "cell_type": "code",
   "execution_count": 19,
   "id": "921eef7d-947a-486a-8cbb-a85d7b6e7025",
   "metadata": {},
   "outputs": [],
   "source": [
    "# Function to produce a message for inventory orders\n",
    "def produce_inventory_order(order):\n",
    "    message = json.dumps(order)\n",
    "    inventory_producer.produce(inventory_topic, message.encode('utf-8'), callback = acked)\n",
    "\n",
    "# Function to produce a message for delivery orders\n",
    "def produce_delivery_order(order):\n",
    "    message = json.dumps(order)\n",
    "    delivery_producer.produce(delivery_topic, message.encode('utf-8'), callback = acked)"
   ]
  },
  {
   "cell_type": "markdown",
   "id": "609ca89f-479b-442f-bbe3-fb8e7fc4aecd",
   "metadata": {},
   "source": [
    "**Message filtering logic**"
   ]
  },
  {
   "cell_type": "code",
   "execution_count": 20,
   "id": "e159c7d9-e285-4247-bfec-f9c6edb2367b",
   "metadata": {
    "scrolled": true
   },
   "outputs": [
    {
     "data": {
      "text/plain": [
       "(2, 2)"
      ]
     },
     "execution_count": 20,
     "metadata": {},
     "output_type": "execute_result"
    }
   ],
   "source": [
    "# Produce messages based on type\n",
    "\n",
    "for order in data:\n",
    "    if order['type'] == 'inventory':\n",
    "        produce_inventory_order(order)\n",
    "    elif order['type'] == 'delivery':\n",
    "        produce_delivery_order(order)\n",
    "    \n",
    "\n",
    "inventory_producer.poll(), delivery_producer.poll()"
   ]
  },
  {
   "cell_type": "markdown",
   "id": "ffe8b324-fd07-42c5-88ac-850d0e78e320",
   "metadata": {},
   "source": [
    "**Consumers: Inventory Data and Delivery Data**"
   ]
  },
  {
   "cell_type": "code",
   "execution_count": 21,
   "id": "475a853c-26d0-4f28-a51d-b5a679f0eefe",
   "metadata": {},
   "outputs": [],
   "source": [
    "# setting configurations\n",
    "\n",
    "conf2 = {'bootstrap.servers': 'host1:8888, host2:8888',\n",
    "        'group.id': 'orders',\n",
    "        'auto.offset.reset': 'smallest', 'client.id': socket.gethostname()}\n",
    "\n",
    "inventory_consumer = Consumer(conf2)\n",
    "delivery_consumer = Consumer(conf2)"
   ]
  },
  {
   "cell_type": "code",
   "execution_count": 22,
   "id": "5920fc4b-4f5a-4c7b-8b8a-82566f8df490",
   "metadata": {},
   "outputs": [],
   "source": [
    "def consume(inventory_consumer, delivery_consumer, inventory_topic, delivery_topic):\n",
    "    \n",
    "    msg_text = ''\n",
    "    try:\n",
    "        inventory_consumer.subscribe([inventory_topic])\n",
    "        delivery_consumer.subscribe([delivery_topic])\n",
    "\n",
    "\n",
    "        while True:\n",
    "            msg = inventory_consumer.poll(timeout=1.0)\n",
    "            if msg is None: \n",
    "                continue\n",
    "\n",
    "            if msg.error():\n",
    "                if msg.error().code() == KafkaError._PARTITION_EOF:\n",
    "                    print('error')\n",
    "                elif msg.error():\n",
    "                    raise KafkaException(msg.error())\n",
    "            else:\n",
    "                temp = msg.value().decode('utf-8')\n",
    "                print(f\"Message: {temp}\")\n",
    "                msg_text += '\\n' + temp\n",
    "                \n",
    "            msg = order_consumer.poll(timeout=1.0)\n",
    "\n",
    "            if msg is None: \n",
    "                continue\n",
    "\n",
    "            if msg.error():\n",
    "                if msg.error().code() == KafkaError._PARTITION_EOF:\n",
    "                    print('error')\n",
    "                elif msg.error():\n",
    "                    raise KafkaException(msg.error())\n",
    "            else:\n",
    "                print(f\"Message: {msg.value().decode('utf-8')}\")\n",
    "                pass\n",
    "                \n",
    "    except KeyboardInterrupt:\n",
    "        pass\n",
    "    finally:\n",
    "        inventory_consumer.close()\n",
    "        delivery_consumer.close()"
   ]
  },
  {
   "cell_type": "code",
   "execution_count": 23,
   "id": "fd0aef96-d9f0-48ac-b86e-ad45097f14ff",
   "metadata": {},
   "outputs": [],
   "source": [
    "consume(inventory_consumer, delivery_consumer, inventory_topic, delivery_topic)"
   ]
  },
  {
   "cell_type": "code",
   "execution_count": 24,
   "id": "0562524c-b7c9-46cb-a81f-a9acf9ade533",
   "metadata": {},
   "outputs": [],
   "source": [
    "inventory_consumer.close()\n",
    "delivery_consumer.close()"
   ]
  },
  {
   "cell_type": "code",
   "execution_count": null,
   "id": "1965fd87-b542-4b4e-b284-a1c822151c88",
   "metadata": {},
   "outputs": [],
   "source": []
  }
 ],
 "metadata": {
  "kernelspec": {
   "display_name": "Python 3 (ipykernel)",
   "language": "python",
   "name": "python3"
  },
  "language_info": {
   "codemirror_mode": {
    "name": "ipython",
    "version": 3
   },
   "file_extension": ".py",
   "mimetype": "text/x-python",
   "name": "python",
   "nbconvert_exporter": "python",
   "pygments_lexer": "ipython3",
   "version": "3.10.11"
  }
 },
 "nbformat": 4,
 "nbformat_minor": 5
}
